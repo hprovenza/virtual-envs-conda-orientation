{
 "cells": [
  {
   "cell_type": "markdown",
   "id": "82462c5e",
   "metadata": {},
   "source": [
    "## Package management in Python\n",
    "#### Background information\n",
    "* The standard package manager in python is pip (Pip Installs Packages)\n",
    "* The standard central repository for python packages is PyPI (Python Package Index)"
   ]
  },
  {
   "cell_type": "markdown",
   "id": "4ed7e5ff",
   "metadata": {},
   "source": [
    "### What's wrong with just using one Python installation for everything?\n",
    "#### What if I want to use different versions of Python for different projects?\n",
    "Well, you could install another version of python and add it to your path.\n",
    "\n",
    "Then what happens when you use pip?  You can't really be sure without additional information.  You'd have to know which version of python is first on your path, and maybe specify the whole path to the python you want to use to be sure."
   ]
  },
  {
   "cell_type": "markdown",
   "id": "cb51c5cb",
   "metadata": {},
   "source": [
    "#### What if I have two projects that depend on conflicting versions of the same package?\n",
    "This is a big one: Python can't handle this on its own.  If ProjectA requires basicpackage 2.0 and ProjectB requires basicpackage 3.0, you're out of luck, they can't both exist on the same python.  "
   ]
  },
  {
   "cell_type": "markdown",
   "id": "e34d22d7",
   "metadata": {},
   "source": [
    "#### How do I document dependencies for other users?\n",
    "You can look at every file for the import statements. Or, you can fail upwards by repeatedly running the code, see which import fails, install that package, and repeat until the software works."
   ]
  },
  {
   "cell_type": "markdown",
   "id": "554e3190",
   "metadata": {},
   "source": [
    "_What if there were a better way?_\n",
    "\n",
    "## Enter the Virtual Environment!\n",
    "#### What is a virtual environment?\n",
    "* A virtual environment is a way to easily create a fresh python installation for your project.  Each one can have its own packages with whatever versions it needs.\n"
   ]
  },
  {
   "cell_type": "markdown",
   "id": "6bd751a1",
   "metadata": {},
   "source": [
    "#### Why should I use one?\n",
    "It is Best Practice™ to have a separate virtual environment for every project you work on because:\n",
    "* It becomes trivial to guarantee that every place you use python (your terminal, IDE debugger and terminal, etc) is using the same python installation.\n",
    "* Because your dependencies are isolated, they easy to document and easy to replicate."
   ]
  },
  {
   "cell_type": "markdown",
   "id": "19556d9c",
   "metadata": {},
   "source": [
    "#### How does it work?\n",
    "* A virtual environment creates a new Python installation directory. \n",
    "* In the bin/ subdirectory, it has hardlinks to the binaries of another, \"base\" Python installation directory.\n",
    "* It points to its *own* `site-packages` or equivalent directories where packages can be installed.\n",
    "* When we activate a virtual environment, it sets your environment variables to point to the new, hardlinked python.\n",
    "* When we deactivate it, everything goes back to how it was before."
   ]
  },
  {
   "cell_type": "markdown",
   "id": "f661b694",
   "metadata": {},
   "source": [
    "There are several packages that allow for creating python virtual environments (the default venv is good and easy to use) but my favorite is...\n",
    "## Conda\n",
    "* Conda is an open-source python version manager *and* package manager *and* environment manager that runs on Windows, macOS and Linux.\n",
    "* Conda easily creates, saves, loads and switches between environments on your local computer.\n",
    "* It was created for Python data scientists (and that's where it is most popular), but it can theoretically package and distribute software for any language (whereas pip and PyPI are only for python packages).\n",
    "* It has better dependency conflict resolution than pip\n",
    "    - Pip will install a package that breaks your code (or, worse, silently makes it impossible to replicate your results).\n",
    "    - Conda will find a way to choose compatible versions or tell you if you've asked for the impossible.\n",
    "* Despite the above, you can still use pip from within a conda environment, so you're not limited to only Anaconda's packages.\n",
    "* Some of conda's data science libraries are optimized with the Intel Math Kernel Library for faster training."
   ]
  },
  {
   "cell_type": "markdown",
   "id": "9ae6ca09",
   "metadata": {},
   "source": [
    "## Sounds great, how do I get started?"
   ]
  },
  {
   "cell_type": "markdown",
   "id": "f219ee7f",
   "metadata": {},
   "source": [
    "![Switching from Conda's base environment, to my default environment, to the environment I created to make this presentation](switching-environments.png \"Switching Between Conda Environments\")\n",
    "\n",
    "No more worrying about which python installation to use:  Just run `python my_script.py` and the python of your current environment will be used to run it."
   ]
  },
  {
   "cell_type": "markdown",
   "id": "68f216f5",
   "metadata": {},
   "source": [
    "## Documentation\n",
    "![image.png](drake_requirements.jpeg)\n",
    "* When your code is ready, run `conda env export > environment.yml`.\n",
    "* Include the environment.yml file in your git repository for future users of your code.\n",
    "* To create a new environment from an environment.yml file, `conda env create -f envname.yml`"
   ]
  },
  {
   "cell_type": "markdown",
   "id": "2372b917",
   "metadata": {},
   "source": [
    "#### I've heard of conda, Anaconda, and miniconda.  What's the difference?\n",
    "* Conda is the package and environment manager software.\n",
    "* Anaconda and Miniconda are both distributions.  They both have conda and a python installation that is used as the base.\n",
    "* Miniconda comes with a minimal python installation and the conda package and environment manager.\n",
    "* Anaconda is a metapackage of 160 data science packages (numpy, scipy, pandas, etc).\n",
    "* Installing Anaconda is identical to installing conda + `conda install anaconda`."
   ]
  }
 ],
 "metadata": {
  "kernelspec": {
   "display_name": "Python 3",
   "language": "python",
   "name": "python3"
  },
  "language_info": {
   "codemirror_mode": {
    "name": "ipython",
    "version": 3
   },
   "file_extension": ".py",
   "mimetype": "text/x-python",
   "name": "python",
   "nbconvert_exporter": "python",
   "pygments_lexer": "ipython3",
   "version": "3.9.2"
  }
 },
 "nbformat": 4,
 "nbformat_minor": 5
}
