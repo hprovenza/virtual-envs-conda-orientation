{
 "cells": [
  {
   "cell_type": "markdown",
   "id": "bde7f6c0",
   "metadata": {},
   "source": [
    "## Package management in Python\n",
    "#### Background information\n",
    "* The standard package manager in python is pip (Pip Installs Packages)\n",
    "* The standard central repository for python packages is PyPI (Python Package Index)"
   ]
  },
  {
   "cell_type": "markdown",
   "id": "acab636c",
   "metadata": {},
   "source": [
    "### What's wrong with just using one Python installation for everything?\n",
    "#### What if I want to use different versions of Python for different projects?\n",
    "Well, you could install another version of python and add it to your path.\n",
    "\n",
    "Then what happens when you use pip?  You can't really be sure without additional information.  You'd have to know which version of python is first on your path, and maybe specify the whole path to the python you want to use to be sure."
   ]
  },
  {
   "cell_type": "markdown",
   "id": "4d8e5c6f",
   "metadata": {},
   "source": [
    "#### What if I have two projects that depend on conflicting versions of the same package?\n",
    "This is a big one: Python can't handle this on its own.  If ProjectA requires basicpackage 2.0 and ProjectB requires basicpackage 3.0, you're out of luck, they can't both exist on the same python.  "
   ]
  },
  {
   "cell_type": "markdown",
   "id": "c7d4634a",
   "metadata": {},
   "source": [
    "#### How do I document dependencies for other users?\n",
    "You can look at every file for the import statements. Or, you can fail upwards by repeatedly running the code, see which import fails, install that package, and repeat until the software works."
   ]
  },
  {
   "cell_type": "markdown",
   "id": "9e6733f4",
   "metadata": {},
   "source": [
    "_What if there were a better way?_\n",
    "\n",
    "## Enter the Virtual Environment!\n",
    "#### What is a virtual environment?\n",
    "* A virtual environment is a way to easily create a fresh python installation for your project.  Each one can have its own packages with whatever versions it needs.\n"
   ]
  },
  {
   "cell_type": "markdown",
   "id": "e16d4de9",
   "metadata": {},
   "source": [
    "#### Why should I use one?\n",
    "It is Best Practice™ to have a separate virtual environment for every project you work on because:\n",
    "* It becomes trivial to guarantee that every place you use python (your terminal, IDE debugger and terminal, etc) is using the same python installation.\n",
    "* Isolate dependencies between projects to prevent version conflicts.\n",
    "* Makes environments and imports easy to document and easy to replicate."
   ]
  },
  {
   "cell_type": "markdown",
   "id": "abc834f0",
   "metadata": {},
   "source": [
    "#### How does it work?\n",
    "* A virtual environment creates a new Python installation directory. \n",
    "* In the bin/ subdirectory, it has hardlinks to the binaries of another, \"base\" Python installation directory.\n",
    "* It points to its *own* `site-packages` or equivalent directories where packages can be installed.\n",
    "* When we activate a virtual environment, it sets your environment variables to point to the new, hardlinked python.\n",
    "* When we deactivate it, everything goes back to how it was before."
   ]
  },
  {
   "cell_type": "markdown",
   "id": "18982e34",
   "metadata": {},
   "source": [
    "There are several packages that allow for creating python virtual environments (the default venv is good and easy to use) but my favorite is...\n",
    "## Conda\n",
    "* Conda is an open-source python version manager *and* package manager *and* environment manager that runs on Windows, macOS and Linux.\n",
    "* Conda easily creates, saves, loads and switches between environments on your local computer.\n",
    "* It was created for Python data scientists (and that's where it is most popular), but it can theoretically package and distribute software for any language (whereas pip and PyPI are only for python packages).\n",
    "* It has better dependency conflict resolution than pip\n",
    "    - Pip will install a package that breaks your code (or, worse, silently makes it impossible to replicate your results).\n",
    "    - Conda will find a way to choose compatible versions or tell you if you've asked for the impossible.\n",
    "* Some of conda's data science libraries are optimized with the Intel Math Kernel Library for faster training."
   ]
  },
  {
   "cell_type": "markdown",
   "id": "ac52d295",
   "metadata": {},
   "source": [
    "## Sounds great, how do I get started?"
   ]
  },
  {
   "cell_type": "markdown",
   "id": "6b08b3e5",
   "metadata": {},
   "source": [
    "## Creating an Environment\n",
    "Typical fully-loaded example:\n",
    "```\n",
    "conda create -n my-new-env python=3.6 scipy=0.15.0 astroid babel\n",
    "```\n",
    "* `conda create -n [name]` The base command.\n",
    "* `-n` specifies the name of my new environment.\n",
    "    * If you would prefer you can instead specify a path to the environment with `-p /prefix/for/env/location`/\n",
    "* `python=3.6` Specifying a python version is optional.\n",
    "* `scipy=0.15.0` Specifying a version of scipy to install to the environment, downloading it if you don't have it.\n",
    "* `astroid babel` Install the latest versions of astroid and babel that are compatible with all my other dependencies."
   ]
  },
  {
   "cell_type": "markdown",
   "id": "3ae9f2d6",
   "metadata": {},
   "source": [
    "## Activating and Deactivating an Environment\n",
    "\n",
    "![Switching from Conda's base environment, to my default environment, to the environment I created to make this presentation](activate-envs.png \"Switching Between Conda Environments\")\n",
    "\n",
    "No more worrying about which python installation to use:  Just run `python my_script.py` and the python of your active environment will be used to run it."
   ]
  },
  {
   "cell_type": "markdown",
   "id": "562d0c85",
   "metadata": {},
   "source": [
    "## Installing More Packages\n",
    "* Find available versions with:"
   ]
  },
  {
   "cell_type": "code",
   "execution_count": 17,
   "id": "46a9535d",
   "metadata": {},
   "outputs": [
    {
     "name": "stdout",
     "output_type": "stream",
     "text": [
      "scikit-learn                  0.23.1  py38h58f5ce4_0  pkgs/main           \n",
      "scikit-learn                  0.23.1  py38h603561c_0  pkgs/main           \n",
      "scikit-learn                  0.23.2  py36h959d312_0  pkgs/main           \n",
      "scikit-learn                  0.23.2  py37h959d312_0  pkgs/main           \n",
      "scikit-learn                  0.23.2  py38h959d312_0  pkgs/main           \n",
      "scikit-learn                  0.23.2  py39hb2f4e1b_0  pkgs/main           \n",
      "scikit-learn                  0.24.1  py36hb2f4e1b_0  pkgs/main           \n",
      "scikit-learn                  0.24.1  py37hb2f4e1b_0  pkgs/main           \n",
      "scikit-learn                  0.24.1  py38hb2f4e1b_0  pkgs/main           \n",
      "scikit-learn                  0.24.1  py39hb2f4e1b_0  pkgs/main           \n"
     ]
    }
   ],
   "source": [
    "! conda search scikit-learn | tail"
   ]
  },
  {
   "cell_type": "markdown",
   "id": "49f2c769",
   "metadata": {},
   "source": [
    "* With your environment activated, run:\n",
    "```\n",
    "conda install scikit-learn=0.24.1\n",
    "```\n",
    "* Specifying a version is optional.\n",
    "* Despite the warnings about pip's dependency resolution issues above, you can still use pip from within a conda environment, so you're not limited to only Anaconda packages.\n"
   ]
  },
  {
   "cell_type": "markdown",
   "id": "09f78c26",
   "metadata": {},
   "source": [
    "## Documentation\n",
    "![image.png](drake_requirements.jpeg)\n",
    "* When your code is ready, run:\n",
    "    ```\n",
    "    conda env export > environment.yml\n",
    "    ```\n",
    "* Include the `environment.yml` file in your git repository for future users of your code.\n",
    "* To create a new environment from an environment.yml file:\n",
    "    ```\n",
    "    conda env create -n my-env-from-file -f environment.yml\n",
    "    ```"
   ]
  },
  {
   "cell_type": "markdown",
   "id": "f421741c",
   "metadata": {},
   "source": [
    "## Delivering Environments\n",
    "Conda-pack is a command line tool that archives a conda environment, which includes all the binaries of the packages installed in the environment.  This is useful when you want to reproduce an environment with limited or no internet access\n",
    "* Requirements:  Source and target machines are of the same OS type (Mac/Linux/Windows) and both have a miniconda install\n",
    "* Activate the base environment so that the package will be available to all sub-environments, then install conda-pack with:\n",
    "```\n",
    "conda install -c conda-forge conda-pack\n",
    "```\n",
    "    * `-c conda-forge` specifies that the package comes from the conda-forge channel instead of the main Anaconda repository.\n",
    "    \n",
    "* Pack the environment with\n",
    "```\n",
    "conda pack -n my-env-for-customer\n",
    "```\n",
    "* Deliver to the .tar.tgz file to the target computer.  In the target's miniconda envs directory, create a new directory for your new env.  Activate the new environment, unpack it, and deactivate it with:\n",
    "```\n",
    "cd /dir/to/miniconda3/envs/my_env\n",
    "source my_env/bin/activate\n",
    "conda-unpack\n",
    "source my_env/bin/deactivate\n",
    "```"
   ]
  },
  {
   "cell_type": "markdown",
   "id": "5977404e",
   "metadata": {},
   "source": [
    "#### FAQ: I've heard of conda, Anaconda, and Miniconda.  What's the difference?\n",
    "* Conda is the package and environment manager software.\n",
    "* Anaconda and Miniconda are both distributions.  They both have conda and a python installation that is used as the base.\n",
    "* Miniconda comes with a minimal python installation and the conda package and environment manager.\n",
    "* Anaconda is a metapackage of 160 data science packages (numpy, scipy, pandas, etc).\n",
    "* If you have Miniconda, you can install all the Anaconda packages with\n",
    "    ```\n",
    "    conda install anaconda\n",
    "    ```"
   ]
  },
  {
   "cell_type": "code",
   "execution_count": null,
   "id": "667cd3cb",
   "metadata": {},
   "outputs": [],
   "source": []
  }
 ],
 "metadata": {
  "kernelspec": {
   "display_name": "Python 3",
   "language": "python",
   "name": "python3"
  },
  "language_info": {
   "codemirror_mode": {
    "name": "ipython",
    "version": 3
   },
   "file_extension": ".py",
   "mimetype": "text/x-python",
   "name": "python",
   "nbconvert_exporter": "python",
   "pygments_lexer": "ipython3",
   "version": "3.9.2"
  }
 },
 "nbformat": 4,
 "nbformat_minor": 5
}
