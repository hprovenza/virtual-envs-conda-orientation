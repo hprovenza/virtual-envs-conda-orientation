{
 "cells": [
  {
   "cell_type": "markdown",
   "id": "42c6b9c0",
   "metadata": {},
   "source": [
    "## Package management in Python\n",
    "#### Background information\n",
    "* The standard package manager in python is pip (Pip Installs Packages)\n",
    "* The standard central repository for python packages is PyPI (Python Package Index)\n",
    "* For comparison in the future, here's my system's default python installation on my personal laptop.  It has version 2.7.16 and doesn't include pip."
   ]
  },
  {
   "cell_type": "markdown",
   "id": "82ffce99",
   "metadata": {
    "tags": []
   },
   "source": [
    "![My system's default python installation](no-environment.png \"System Base Python\")"
   ]
  },
  {
   "cell_type": "markdown",
   "id": "b565a312",
   "metadata": {},
   "source": [
    "#### What if I want to use different version of Python?  Like python 2.8 or 3?\n",
    "\n",
    "Well, you could install another version of python and add it to your path.\n",
    "\n",
    "Then what happens when you use pip?  You can't really be sure without additional information.  You'd have to know which version of python is first on your path, and maybe specify the whole path to the python you want to use. to be sure."
   ]
  },
  {
   "cell_type": "markdown",
   "id": "2938c8df",
   "metadata": {},
   "source": [
    "#### What if I have two projects that depend on conflicting versions of the same package?\n",
    "Python can't handle this on its own.  If ProjectA requires basicpackage 2.0 and ProjectB requires basicpackage 3.0, you're out of luck.\n",
    "\n",
    "I used to waste a lot of time installing packages, realizing I'd installed them to the wrong Python, and reinstalling them.  Or thinking my code was broken because I ran `python my_script.py` instead of `python3`.\n",
    "\n",
    "*Until...*"
   ]
  },
  {
   "cell_type": "markdown",
   "id": "a690a09a",
   "metadata": {},
   "source": [
    "## Enter the Virtual Environment!\n",
    "#### What is a virtual environment?\n",
    "* A virtual environment is a way to easily create a fresh python installation for your project.  Each one can have its own packages with whatever versions it needs.\n"
   ]
  },
  {
   "cell_type": "markdown",
   "id": "646ccf99",
   "metadata": {},
   "source": [
    "#### Why should I use one?\n",
    "* It resolves the problems with conflicting Python versions and conflicting package versions that I described above.\n",
    "* It is Best Practice™ to have a separate virtual environment for every project you work on.\n",
    "* You can put a virtual environment in a directory you control. This means that at work, I never have to worry about the fact that I don't have sudo privileges for the Python installations in /opt/."
   ]
  },
  {
   "cell_type": "markdown",
   "id": "901da827",
   "metadata": {},
   "source": [
    "#### How does it work?\n",
    "* A virtual environment creates a new Python installation directory.\n",
    "* In the bin/ subdirectory, it has hardlinks to the binaries of another, \"base\" Python installation directory.\n",
    "* *However*, it points to its own new directories where packages can be installed.\n",
    "* When we activate a virtual environment, its python becomes the main python on your terminal.\n",
    "* When we deactivate it, everything goes back to how it was before."
   ]
  },
  {
   "cell_type": "markdown",
   "id": "9d2ce7bf",
   "metadata": {},
   "source": [
    "There are several packages that allow for creating python virtual environments (venv and pyenv among them) but my favorite is...\n",
    "## Conda\n",
    "* Conda is an open source package *and* environment management system that runs on Windows, macOS and Linux.\n",
    "* Conda easily creates, saves, loads and switches between environments on your local computer.\n",
    "* It was created for Python programs (and that's where it is most popular), but it can theoretically package and distribute software for any language (whereas pip and PyPI are only for python).\n",
    "* Anaconda, Inc. maintains its own curated repository of 1000+ packages for data science.  Conda can install these with `conda install`.\n",
    "* If you want something they don't offer, you can still use pip from within a conda environment."
   ]
  },
  {
   "cell_type": "markdown",
   "id": "1b028310",
   "metadata": {},
   "source": [
    "![Switching from Conda's base environment, to my default environment, to the environment I created to make this presentation](switching-environments.png \"Switching Between Conda Environments\")\n",
    "\n",
    "No more worrying about which python installation to use:  Just run `python my_script.py` and the python of your current environment will be used to run it."
   ]
  },
  {
   "cell_type": "markdown",
   "id": "f3a3bd64",
   "metadata": {},
   "source": [
    "#### What's the difference between Miniconda and Anaconda?\n",
    "* Anaconda and Miniconda are both distributions.  They come with python, conda, and some packages.\n",
    "* Miniconda comes with a minimal python installation and the conda package and environment manager.\n",
    "* Anaconda comes with an entire PyData ecosystem of over 1000 libraries by default, including numpy, scipy, pandas, sklearn, and tensorflow.\n",
    "* Anaconda requires several GB of disk space and since I haven't done much Python data science at BBN, I have miniconda and just install things as I need them.\n",
    "* If you have one distribution, for example miniconda with python 2.7, you can add other versions of python with `conda install python=3.6`.  Then when you create new environments, you can specify which python version to use with `conda create -n my_env_name python=3.6`."
   ]
  },
  {
   "cell_type": "markdown",
   "id": "1608aa2d",
   "metadata": {},
   "source": [
    "#### Is pyinstaller compatible with virtual environments?\n",
    "* Yes.  Activate your environment, install pyinstaller, and run pyinstaller from within the environment."
   ]
  }
 ],
 "metadata": {
  "kernelspec": {
   "display_name": "Python 3",
   "language": "python",
   "name": "python3"
  },
  "language_info": {
   "codemirror_mode": {
    "name": "ipython",
    "version": 3
   },
   "file_extension": ".py",
   "mimetype": "text/x-python",
   "name": "python",
   "nbconvert_exporter": "python",
   "pygments_lexer": "ipython3",
   "version": "3.9.2"
  }
 },
 "nbformat": 4,
 "nbformat_minor": 5
}
